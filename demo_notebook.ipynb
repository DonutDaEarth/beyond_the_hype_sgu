{
 "cells": [
  {
   "cell_type": "markdown",
   "id": "de38331e",
   "metadata": {},
   "source": [
    "# Beyond the Hype: When Transformers Can't Count\n",
    "\n",
    "## Live Demonstration of Numerical Reasoning Failures\n",
    "\n",
    "**Project Thesis:** Despite achieving near-human performance on many NLP tasks, state-of-the-art Transformer models fail catastrophically at basic numerical reasoning that any elementary student could solve.\n",
    "\n",
    "---"
   ]
  },
  {
   "cell_type": "markdown",
   "id": "95f796fa",
   "metadata": {},
   "source": [
    "## Setup: Install and Import Required Libraries"
   ]
  },
  {
   "cell_type": "code",
   "execution_count": 46,
   "id": "118fda81",
   "metadata": {},
   "outputs": [
    {
     "name": "stdout",
     "output_type": "stream",
     "text": [
      "Note: you may need to restart the kernel to use updated packages.\n"
     ]
    }
   ],
   "source": [
    "# Install required packages (run once)\n",
    "%pip install transformers torch pandas numpy matplotlib seaborn accelerate --quiet"
   ]
  },
  {
   "cell_type": "code",
   "execution_count": 47,
   "id": "32af9e19",
   "metadata": {},
   "outputs": [],
   "source": [
    "import torch\n",
    "from transformers import (\n",
    "    T5ForConditionalGeneration, \n",
    "    T5Tokenizer,\n",
    "    BartForConditionalGeneration,\n",
    "    BartTokenizer,\n",
    "    GPT2LMHeadModel,\n",
    "    GPT2Tokenizer,\n",
    "    AutoModelForCausalLM,\n",
    "    AutoTokenizer,\n",
    "    pipeline\n",
    ")\n",
    "import pandas as pd\n",
    "import numpy as np\n",
    "import matplotlib.pyplot as plt\n",
    "import seaborn as sns\n",
    "from IPython.display import display, HTML, Markdown\n",
    "import warnings\n",
    "warnings.filterwarnings('ignore')\n",
    "\n",
    "# Set style for better visualizations\n",
    "sns.set_style('whitegrid')\n",
    "plt.rcParams['figure.figsize'] = (12, 6)"
   ]
  },
  {
   "cell_type": "markdown",
   "id": "aafa8079",
   "metadata": {},
   "source": [
    "## Load Pre-trained Models\n",
    "\n",
    "We'll test **5 different state-of-the-art models** spanning different architectures and generations:\n",
    "\n",
    "1. **FLAN-T5-Large** - Google's instruction-tuned model (2022) - 780M parameters\n",
    "2. **BART-large-cnn** - Facebook's summarization model (2019) - 406M parameters\n",
    "3. **GPT-2** - OpenAI's language model (2019) - 117M parameters\n",
    "4. **DistilGPT-2** - OpenAI's distilled model (2019) - 82M parameters\n",
    "5. **T5-small** - Google's T5 model (2019) - 60M parameters\n",
    "\n",
    "**Why multiple models?** To prove this isn't a single model failure - it's a systematic limitation across different architectures, sizes, and companies!"
   ]
  },
  {
   "cell_type": "code",
   "execution_count": 48,
   "id": "27169896",
   "metadata": {},
   "outputs": [
    {
     "name": "stdout",
     "output_type": "stream",
     "text": [
      "Loading models... This may take a few minutes.\n",
      "\n",
      "[1/5] Loading FLAN-T5-Large (780M parameters)...\n",
      "  → Google's instruction-tuned model (2022)\n",
      "  ✓ FLAN-T5-Large loaded successfully\n",
      "\n",
      "[2/5] Loading BART-large-cnn (406M parameters)...\n",
      "  → Facebook's summarization model (2019)\n",
      "  ✓ FLAN-T5-Large loaded successfully\n",
      "\n",
      "[2/5] Loading BART-large-cnn (406M parameters)...\n",
      "  → Facebook's summarization model (2019)\n"
     ]
    },
    {
     "name": "stderr",
     "output_type": "stream",
     "text": [
      "Device set to use cpu\n"
     ]
    },
    {
     "name": "stdout",
     "output_type": "stream",
     "text": [
      "  ✓ BART loaded successfully\n",
      "\n",
      "[3/5] Loading GPT-2 (117M parameters)...\n",
      "  → OpenAI's language model (2019)\n",
      "  ✓ GPT-2 loaded successfully\n",
      "\n",
      "[4/5] Loading DistilGPT-2 (82M parameters)...\n",
      "  → OpenAI's distilled language model (2019)\n",
      "  ✓ GPT-2 loaded successfully\n",
      "\n",
      "[4/5] Loading DistilGPT-2 (82M parameters)...\n",
      "  → OpenAI's distilled language model (2019)\n"
     ]
    },
    {
     "data": {
      "application/vnd.jupyter.widget-view+json": {
       "model_id": "86f1dff3bb4f46f89eae656b0421f77b",
       "version_major": 2,
       "version_minor": 0
      },
      "text/plain": [
       "config.json:   0%|          | 0.00/762 [00:00<?, ?B/s]"
      ]
     },
     "metadata": {},
     "output_type": "display_data"
    },
    {
     "name": "stderr",
     "output_type": "stream",
     "text": [
      "Xet Storage is enabled for this repo, but the 'hf_xet' package is not installed. Falling back to regular HTTP download. For better performance, install the package with: `pip install huggingface_hub[hf_xet]` or `pip install hf_xet`\n"
     ]
    },
    {
     "data": {
      "application/vnd.jupyter.widget-view+json": {
       "model_id": "1d4f8848278345ceb43328d3c178f40b",
       "version_major": 2,
       "version_minor": 0
      },
      "text/plain": [
       "model.safetensors:   0%|          | 0.00/353M [00:00<?, ?B/s]"
      ]
     },
     "metadata": {},
     "output_type": "display_data"
    },
    {
     "data": {
      "application/vnd.jupyter.widget-view+json": {
       "model_id": "3a058e53368946429849a633f2f9e9a9",
       "version_major": 2,
       "version_minor": 0
      },
      "text/plain": [
       "generation_config.json:   0%|          | 0.00/124 [00:00<?, ?B/s]"
      ]
     },
     "metadata": {},
     "output_type": "display_data"
    },
    {
     "data": {
      "application/vnd.jupyter.widget-view+json": {
       "model_id": "8f2053c739c447c4850adcc05977ea3f",
       "version_major": 2,
       "version_minor": 0
      },
      "text/plain": [
       "tokenizer_config.json:   0%|          | 0.00/26.0 [00:00<?, ?B/s]"
      ]
     },
     "metadata": {},
     "output_type": "display_data"
    },
    {
     "data": {
      "application/vnd.jupyter.widget-view+json": {
       "model_id": "777fcb08cde642d3b6a1c9a9f27a11bf",
       "version_major": 2,
       "version_minor": 0
      },
      "text/plain": [
       "vocab.json:   0%|          | 0.00/1.04M [00:00<?, ?B/s]"
      ]
     },
     "metadata": {},
     "output_type": "display_data"
    },
    {
     "data": {
      "application/vnd.jupyter.widget-view+json": {
       "model_id": "01412d2146f641349142a3eae7933c93",
       "version_major": 2,
       "version_minor": 0
      },
      "text/plain": [
       "merges.txt:   0%|          | 0.00/456k [00:00<?, ?B/s]"
      ]
     },
     "metadata": {},
     "output_type": "display_data"
    },
    {
     "data": {
      "application/vnd.jupyter.widget-view+json": {
       "model_id": "a60d25b74b8048319698f6199c1b3830",
       "version_major": 2,
       "version_minor": 0
      },
      "text/plain": [
       "tokenizer.json:   0%|          | 0.00/1.36M [00:00<?, ?B/s]"
      ]
     },
     "metadata": {},
     "output_type": "display_data"
    },
    {
     "name": "stdout",
     "output_type": "stream",
     "text": [
      "  ✓ DistilGPT-2 loaded successfully\n",
      "\n",
      "[5/5] Loading T5-small (60M parameters)...\n",
      "  → Google's smaller T5 model (2019)\n"
     ]
    },
    {
     "data": {
      "application/vnd.jupyter.widget-view+json": {
       "model_id": "210fd63fe8ed4e268af2c868873f7b9c",
       "version_major": 2,
       "version_minor": 0
      },
      "text/plain": [
       "config.json:   0%|          | 0.00/1.21k [00:00<?, ?B/s]"
      ]
     },
     "metadata": {},
     "output_type": "display_data"
    },
    {
     "name": "stderr",
     "output_type": "stream",
     "text": [
      "Xet Storage is enabled for this repo, but the 'hf_xet' package is not installed. Falling back to regular HTTP download. For better performance, install the package with: `pip install huggingface_hub[hf_xet]` or `pip install hf_xet`\n"
     ]
    },
    {
     "data": {
      "application/vnd.jupyter.widget-view+json": {
       "model_id": "4f341c44e3c140a08fda5f4279db4471",
       "version_major": 2,
       "version_minor": 0
      },
      "text/plain": [
       "model.safetensors:   0%|          | 0.00/242M [00:00<?, ?B/s]"
      ]
     },
     "metadata": {},
     "output_type": "display_data"
    },
    {
     "data": {
      "application/vnd.jupyter.widget-view+json": {
       "model_id": "2218fc80351640169544948ee2ece48e",
       "version_major": 2,
       "version_minor": 0
      },
      "text/plain": [
       "generation_config.json:   0%|          | 0.00/147 [00:00<?, ?B/s]"
      ]
     },
     "metadata": {},
     "output_type": "display_data"
    },
    {
     "data": {
      "application/vnd.jupyter.widget-view+json": {
       "model_id": "ec4237486987466ea09eeecf4f07f1ab",
       "version_major": 2,
       "version_minor": 0
      },
      "text/plain": [
       "tokenizer_config.json:   0%|          | 0.00/2.32k [00:00<?, ?B/s]"
      ]
     },
     "metadata": {},
     "output_type": "display_data"
    },
    {
     "data": {
      "application/vnd.jupyter.widget-view+json": {
       "model_id": "89f1c0aecf6f44008a04dd7e73ebd602",
       "version_major": 2,
       "version_minor": 0
      },
      "text/plain": [
       "spiece.model:   0%|          | 0.00/792k [00:00<?, ?B/s]"
      ]
     },
     "metadata": {},
     "output_type": "display_data"
    },
    {
     "data": {
      "application/vnd.jupyter.widget-view+json": {
       "model_id": "9b8818de71864973b3145b2e0dde48c4",
       "version_major": 2,
       "version_minor": 0
      },
      "text/plain": [
       "tokenizer.json:   0%|          | 0.00/1.39M [00:00<?, ?B/s]"
      ]
     },
     "metadata": {},
     "output_type": "display_data"
    },
    {
     "name": "stdout",
     "output_type": "stream",
     "text": [
      "  ✓ T5-small loaded successfully\n",
      "\n",
      "============================================================\n",
      "✓ All Models Loaded Successfully!\n",
      "============================================================\n",
      "\n",
      "📊 Loaded Models:\n",
      "  • FLAN-T5-Large: 780M parameters (Google, 2022)\n",
      "  • BART-large-cnn: 406M parameters (Facebook, 2019)\n",
      "  • GPT-2: 117M parameters (OpenAI, 2019)\n",
      "  • DistilGPT-2: 82M parameters (OpenAI, 2019)\n",
      "  • T5-small: 60M parameters (Google, 2019)\n",
      "============================================================\n"
     ]
    }
   ],
   "source": [
    "print(\"Loading models... This may take a few minutes.\\n\")\n",
    "\n",
    "# Load FLAN-T5-Large\n",
    "print(\"[1/5] Loading FLAN-T5-Large (780M parameters)...\")\n",
    "print(\"  → Google's instruction-tuned model (2022)\")\n",
    "t5_model = T5ForConditionalGeneration.from_pretrained('google/flan-t5-large')\n",
    "t5_tokenizer = T5Tokenizer.from_pretrained('google/flan-t5-large')\n",
    "t5_model.eval()\n",
    "print(\"  ✓ FLAN-T5-Large loaded successfully\")\n",
    "\n",
    "# Load BART\n",
    "print(\"\\n[2/5] Loading BART-large-cnn (406M parameters)...\")\n",
    "print(\"  → Facebook's summarization model (2019)\")\n",
    "bart_summarizer = pipeline(\"summarization\", model=\"facebook/bart-large-cnn\", framework=\"pt\")\n",
    "print(\"  ✓ BART loaded successfully\")\n",
    "\n",
    "# Load GPT-2\n",
    "print(\"\\n[3/5] Loading GPT-2 (117M parameters)...\")\n",
    "print(\"  → OpenAI's language model (2019)\")\n",
    "gpt2_model = GPT2LMHeadModel.from_pretrained('gpt2')\n",
    "gpt2_tokenizer = GPT2Tokenizer.from_pretrained('gpt2')\n",
    "gpt2_tokenizer.pad_token = gpt2_tokenizer.eos_token\n",
    "gpt2_model.eval()\n",
    "print(\"  ✓ GPT-2 loaded successfully\")\n",
    "\n",
    "# Load DistilGPT-2 (smaller, faster GPT-2)\n",
    "print(\"\\n[4/5] Loading DistilGPT-2 (82M parameters)...\")\n",
    "print(\"  → OpenAI's distilled language model (2019)\")\n",
    "distilgpt2_model = GPT2LMHeadModel.from_pretrained('distilgpt2')\n",
    "distilgpt2_tokenizer = GPT2Tokenizer.from_pretrained('distilgpt2')\n",
    "distilgpt2_tokenizer.pad_token = distilgpt2_tokenizer.eos_token\n",
    "distilgpt2_model.eval()\n",
    "print(\"  ✓ DistilGPT-2 loaded successfully\")\n",
    "\n",
    "# Load T5-small\n",
    "print(\"\\n[5/5] Loading T5-small (60M parameters)...\")\n",
    "print(\"  → Google's smaller T5 model (2019)\")\n",
    "t5small_model = T5ForConditionalGeneration.from_pretrained('t5-small')\n",
    "t5small_tokenizer = T5Tokenizer.from_pretrained('t5-small')\n",
    "t5small_model.eval()\n",
    "print(\"  ✓ T5-small loaded successfully\")\n",
    "\n",
    "print(\"\\n\" + \"=\"*60)\n",
    "print(\"✓ All Models Loaded Successfully!\")\n",
    "print(\"=\"*60)\n",
    "print(\"\\n📊 Loaded Models:\")\n",
    "print(f\"  • FLAN-T5-Large: 780M parameters (Google, 2022)\")\n",
    "print(f\"  • BART-large-cnn: 406M parameters (Facebook, 2019)\")\n",
    "print(f\"  • GPT-2: 117M parameters (OpenAI, 2019)\")\n",
    "print(f\"  • DistilGPT-2: 82M parameters (OpenAI, 2019)\")\n",
    "print(f\"  • T5-small: 60M parameters (Google, 2019)\")\n",
    "print(\"=\"*60)"
   ]
  },
  {
   "cell_type": "markdown",
   "id": "e71d6664",
   "metadata": {},
   "source": [
    "## Helper Functions for Model Inference"
   ]
  },
  {
   "cell_type": "code",
   "execution_count": 49,
   "id": "26c657e1",
   "metadata": {},
   "outputs": [
    {
     "name": "stdout",
     "output_type": "stream",
     "text": [
      "✓ Helper functions defined!\n"
     ]
    }
   ],
   "source": [
    "def generate_t5_response(prompt, max_length=100):\n",
    "    \"\"\"Generate response using FLAN-T5-Large model\"\"\"\n",
    "    # FLAN-T5 works better with direct instructions (no \"question:\" prefix needed)\n",
    "    input_ids = t5_tokenizer.encode(prompt, return_tensors='pt', max_length=512, truncation=True)\n",
    "    with torch.no_grad():\n",
    "        outputs = t5_model.generate(\n",
    "            input_ids,\n",
    "            max_length=max_length,\n",
    "            num_beams=4,\n",
    "            early_stopping=True,\n",
    "            temperature=0.1,  # Lower temperature for more deterministic math answers\n",
    "            do_sample=False   # Greedy decoding for consistency\n",
    "        )\n",
    "    return t5_tokenizer.decode(outputs[0], skip_special_tokens=True)\n",
    "\n",
    "def generate_bart_summary(text, max_length=130, min_length=30):\n",
    "    \"\"\"Generate summary using BART model\"\"\"\n",
    "    try:\n",
    "        result = bart_summarizer(text, max_length=max_length, min_length=min_length, do_sample=False)\n",
    "        return result[0]['summary_text']\n",
    "    except Exception as e:\n",
    "        return f\"Error: {str(e)}\"\n",
    "\n",
    "def generate_gpt2_response(prompt, max_length=100):\n",
    "    \"\"\"Generate response using GPT-2 model\"\"\"\n",
    "    input_ids = gpt2_tokenizer.encode(prompt, return_tensors='pt')\n",
    "    with torch.no_grad():\n",
    "        outputs = gpt2_model.generate(\n",
    "            input_ids,\n",
    "            max_length=max_length,\n",
    "            num_return_sequences=1,\n",
    "            pad_token_id=gpt2_tokenizer.eos_token_id,\n",
    "            temperature=0.7,\n",
    "            do_sample=True\n",
    "        )\n",
    "    return gpt2_tokenizer.decode(outputs[0], skip_special_tokens=True)\n",
    "\n",
    "def generate_distilgpt2_response(prompt, max_length=100):\n",
    "    \"\"\"Generate response using DistilGPT-2 model\"\"\"\n",
    "    input_ids = distilgpt2_tokenizer.encode(prompt, return_tensors='pt')\n",
    "    with torch.no_grad():\n",
    "        outputs = distilgpt2_model.generate(\n",
    "            input_ids,\n",
    "            max_length=max_length,\n",
    "            num_return_sequences=1,\n",
    "            pad_token_id=distilgpt2_tokenizer.eos_token_id,\n",
    "            temperature=0.7,\n",
    "            do_sample=True\n",
    "        )\n",
    "    return distilgpt2_tokenizer.decode(outputs[0], skip_special_tokens=True)\n",
    "\n",
    "def generate_t5small_response(prompt, max_length=100):\n",
    "    \"\"\"Generate response using T5-small model\"\"\"\n",
    "    input_ids = t5small_tokenizer.encode(prompt, return_tensors='pt', max_length=512, truncation=True)\n",
    "    with torch.no_grad():\n",
    "        outputs = t5small_model.generate(\n",
    "            input_ids,\n",
    "            max_length=max_length,\n",
    "            num_beams=4,\n",
    "            early_stopping=True,\n",
    "            temperature=0.1,\n",
    "            do_sample=False\n",
    "        )\n",
    "    return t5small_tokenizer.decode(outputs[0], skip_special_tokens=True)\n",
    "\n",
    "def display_comparison(test_name, input_text, correct_answer, t5_output=None, bart_output=None, gpt2_output=None, distilgpt2_output=None, t5small_output=None):\n",
    "    \"\"\"Display a formatted comparison of model outputs\"\"\"\n",
    "    html = f\"\"\"\n",
    "    <div style='background-color: #f0f0f0; padding: 20px; border-radius: 10px; margin: 10px 0; border: 2px solid #95a5a6;'>\n",
    "        <h3 style='color: #2c3e50;'>🧪 Test Case: {test_name}</h3>\n",
    "        <div style='background-color: white; color: #2c3e50; padding: 15px; margin: 10px 0; border-left: 4px solid #3498db;'>\n",
    "            <strong style='font-size: 16px;'>📝 Input:</strong><br>\n",
    "            <span style='font-size: 18px; color: #2c3e50;'>{input_text}</span>\n",
    "        </div>\n",
    "        <div style='background-color: #d4edda; color: #155724; padding: 15px; margin: 10px 0; border-left: 4px solid #28a745;'>\n",
    "            <strong style='font-size: 16px;'>✓ Correct Answer:</strong><br>\n",
    "            <span style='font-size: 22px; font-weight: bold; color: #155724;'>{correct_answer}</span>\n",
    "        </div>\n",
    "    \"\"\"\n",
    "    \n",
    "    # Helper function to add model output\n",
    "    def add_model_output(output, model_name, default_color='#f8d7da', default_border='#dc3545'):\n",
    "        if output:\n",
    "            is_wrong = output.strip() != correct_answer.strip()\n",
    "            if is_wrong:\n",
    "                color = default_color\n",
    "                border = default_border\n",
    "                text_color = '#721c24'\n",
    "                icon = '❌'\n",
    "                verdict = '<span style=\"font-size: 20px; color: #dc3545; font-weight: bold;\">WRONG!</span>'\n",
    "            else:\n",
    "                color = '#d4edda'\n",
    "                border = '#28a745'\n",
    "                text_color = '#155724'\n",
    "                icon = '✓'\n",
    "                verdict = '<span style=\"font-size: 20px; color: #28a745; font-weight: bold;\">CORRECT!</span>'\n",
    "                \n",
    "            return f\"\"\"\n",
    "        <div style='background-color: {color}; color: {text_color}; padding: 15px; margin: 10px 0; border-left: 4px solid {border}; border: 2px solid {border};'>\n",
    "            <strong style='font-size: 16px;'>{icon} {model_name}:</strong> {verdict}<br>\n",
    "            <span style='font-size: 20px; font-weight: bold; color: {text_color};'>{output}</span>\n",
    "        </div>\n",
    "            \"\"\"\n",
    "        return \"\"\n",
    "    \n",
    "    # Add all model outputs\n",
    "    html += add_model_output(t5_output, \"FLAN-T5-Large\")\n",
    "    html += add_model_output(gpt2_output, \"GPT-2\")\n",
    "    html += add_model_output(distilgpt2_output, \"DistilGPT-2\", '#fff3cd', '#ffc107')\n",
    "    html += add_model_output(t5small_output, \"T5-small\", '#e8daef', '#9b59b6')\n",
    "    html += add_model_output(bart_output, \"BART\")\n",
    "    \n",
    "    html += \"</div>\"\n",
    "    display(HTML(html))\n",
    "\n",
    "print(\"✓ Helper functions defined!\")"
   ]
  },
  {
   "cell_type": "markdown",
   "id": "4096a74d",
   "metadata": {},
   "source": [
    "---\n",
    "# 🎯 DEMONSTRATION 1: Basic Arithmetic Failures\n",
    "\n",
    "**Expectation:** These models have \"read\" millions of documents containing numbers and arithmetic. Surely they can add and subtract?\n",
    "\n",
    "**Reality:** Let's see..."
   ]
  },
  {
   "cell_type": "code",
   "execution_count": 50,
   "id": "7e3ce106",
   "metadata": {},
   "outputs": [
    {
     "data": {
      "text/html": [
       "\n",
       "    <div style='background-color: #f0f0f0; padding: 20px; border-radius: 10px; margin: 10px 0; border: 2px solid #95a5a6;'>\n",
       "        <h3 style='color: #2c3e50;'>🧪 Test Case: Simple Addition</h3>\n",
       "        <div style='background-color: white; color: #2c3e50; padding: 15px; margin: 10px 0; border-left: 4px solid #3498db;'>\n",
       "            <strong style='font-size: 16px;'>📝 Input:</strong><br>\n",
       "            <span style='font-size: 18px; color: #2c3e50;'>What is 347 + 589?</span>\n",
       "        </div>\n",
       "        <div style='background-color: #d4edda; color: #155724; padding: 15px; margin: 10px 0; border-left: 4px solid #28a745;'>\n",
       "            <strong style='font-size: 16px;'>✓ Correct Answer:</strong><br>\n",
       "            <span style='font-size: 22px; font-weight: bold; color: #155724;'>936</span>\n",
       "        </div>\n",
       "    \n",
       "        <div style='background-color: #f8d7da; color: #721c24; padding: 15px; margin: 10px 0; border-left: 4px solid #dc3545; border: 2px solid #dc3545;'>\n",
       "            <strong style='font-size: 16px;'>❌ FLAN-T5-Large:</strong> <span style=\"font-size: 20px; color: #dc3545; font-weight: bold;\">WRONG!</span><br>\n",
       "            <span style='font-size: 20px; font-weight: bold; color: #721c24;'>112</span>\n",
       "        </div>\n",
       "            \n",
       "        <div style='background-color: #f8d7da; color: #721c24; padding: 15px; margin: 10px 0; border-left: 4px solid #dc3545; border: 2px solid #dc3545;'>\n",
       "            <strong style='font-size: 16px;'>❌ GPT-2:</strong> <span style=\"font-size: 20px; color: #dc3545; font-weight: bold;\">WRONG!</span><br>\n",
       "            <span style='font-size: 20px; font-weight: bold; color: #721c24;'>What is 347 + 589? Give only the numerical answer. If the value in your input field is exactly 347, then you can use the next input field to calculate the value of 347.\n",
       "\n",
       "The final result\n",
       "\n",
       "The final result is</span>\n",
       "        </div>\n",
       "            \n",
       "        <div style='background-color: #fff3cd; color: #721c24; padding: 15px; margin: 10px 0; border-left: 4px solid #ffc107; border: 2px solid #ffc107;'>\n",
       "            <strong style='font-size: 16px;'>❌ DistilGPT-2:</strong> <span style=\"font-size: 20px; color: #dc3545; font-weight: bold;\">WRONG!</span><br>\n",
       "            <span style='font-size: 20px; font-weight: bold; color: #721c24;'>What is 347 + 589? Give only the numerical answer.\n",
       "\n",
       "\n",
       "\"Somewhere in the middle of the pack in the eastern part of the world, a very small amount of the global warming is occurring in a very small amount of</span>\n",
       "        </div>\n",
       "            \n",
       "        <div style='background-color: #e8daef; color: #721c24; padding: 15px; margin: 10px 0; border-left: 4px solid #9b59b6; border: 2px solid #9b59b6;'>\n",
       "            <strong style='font-size: 16px;'>❌ T5-small:</strong> <span style=\"font-size: 20px; color: #dc3545; font-weight: bold;\">WRONG!</span><br>\n",
       "            <span style='font-size: 20px; font-weight: bold; color: #721c24;'>Was is 347 + 589?</span>\n",
       "        </div>\n",
       "            </div>"
      ],
      "text/plain": [
       "<IPython.core.display.HTML object>"
      ]
     },
     "metadata": {},
     "output_type": "display_data"
    }
   ],
   "source": [
    "# Test 1: Simple Addition\n",
    "prompt1 = \"What is 347 + 589? Give only the numerical answer.\"\n",
    "correct1 = \"936\"\n",
    "\n",
    "# Get responses from all models\n",
    "t5_result1 = generate_t5_response(prompt1, max_length=20)\n",
    "gpt2_result1 = generate_gpt2_response(prompt1, max_length=50)\n",
    "distilgpt2_result1 = generate_distilgpt2_response(prompt1, max_length=50)\n",
    "t5small_result1 = generate_t5small_response(prompt1, max_length=20)\n",
    "\n",
    "display_comparison(\n",
    "    \"Simple Addition\",\n",
    "    \"What is 347 + 589?\",\n",
    "    correct1,\n",
    "    t5_result1,\n",
    "    None,  # BART not suitable for math\n",
    "    gpt2_result1,\n",
    "    distilgpt2_result1,\n",
    "    t5small_result1\n",
    ")"
   ]
  },
  {
   "cell_type": "code",
   "execution_count": 51,
   "id": "2101e67f",
   "metadata": {},
   "outputs": [
    {
     "data": {
      "text/html": [
       "\n",
       "    <div style='background-color: #f0f0f0; padding: 20px; border-radius: 10px; margin: 10px 0; border: 2px solid #95a5a6;'>\n",
       "        <h3 style='color: #2c3e50;'>🧪 Test Case: Simple Subtraction</h3>\n",
       "        <div style='background-color: white; color: #2c3e50; padding: 15px; margin: 10px 0; border-left: 4px solid #3498db;'>\n",
       "            <strong style='font-size: 16px;'>📝 Input:</strong><br>\n",
       "            <span style='font-size: 18px; color: #2c3e50;'>What is 1000 - 347?</span>\n",
       "        </div>\n",
       "        <div style='background-color: #d4edda; color: #155724; padding: 15px; margin: 10px 0; border-left: 4px solid #28a745;'>\n",
       "            <strong style='font-size: 16px;'>✓ Correct Answer:</strong><br>\n",
       "            <span style='font-size: 22px; font-weight: bold; color: #155724;'>653</span>\n",
       "        </div>\n",
       "    \n",
       "        <div style='background-color: #f8d7da; color: #721c24; padding: 15px; margin: 10px 0; border-left: 4px solid #dc3545; border: 2px solid #dc3545;'>\n",
       "            <strong style='font-size: 16px;'>❌ FLAN-T5-Large:</strong> <span style=\"font-size: 20px; color: #dc3545; font-weight: bold;\">WRONG!</span><br>\n",
       "            <span style='font-size: 20px; font-weight: bold; color: #721c24;'>347</span>\n",
       "        </div>\n",
       "            \n",
       "        <div style='background-color: #f8d7da; color: #721c24; padding: 15px; margin: 10px 0; border-left: 4px solid #dc3545; border: 2px solid #dc3545;'>\n",
       "            <strong style='font-size: 16px;'>❌ GPT-2:</strong> <span style=\"font-size: 20px; color: #dc3545; font-weight: bold;\">WRONG!</span><br>\n",
       "            <span style='font-size: 20px; font-weight: bold; color: #721c24;'>What is 1000 - 347? Give only the numerical answer.\n",
       "\n",
       "You can't give the numerical answer to any number. So you can't have any sort of exact proof that you can't use a given number.\n",
       "\n",
       "So you don't</span>\n",
       "        </div>\n",
       "            \n",
       "        <div style='background-color: #fff3cd; color: #721c24; padding: 15px; margin: 10px 0; border-left: 4px solid #ffc107; border: 2px solid #ffc107;'>\n",
       "            <strong style='font-size: 16px;'>❌ DistilGPT-2:</strong> <span style=\"font-size: 20px; color: #dc3545; font-weight: bold;\">WRONG!</span><br>\n",
       "            <span style='font-size: 20px; font-weight: bold; color: #721c24;'>What is 1000 - 347? Give only the numerical answer. And they will only pay you to accept your money. If you don't accept, you can lose your money. If you don't accept, you can lose your money.\n",
       "\n",
       "\n",
       "</span>\n",
       "        </div>\n",
       "            \n",
       "        <div style='background-color: #e8daef; color: #721c24; padding: 15px; margin: 10px 0; border-left: 4px solid #9b59b6; border: 2px solid #9b59b6;'>\n",
       "            <strong style='font-size: 16px;'>❌ T5-small:</strong> <span style=\"font-size: 20px; color: #dc3545; font-weight: bold;\">WRONG!</span><br>\n",
       "            <span style='font-size: 20px; font-weight: bold; color: #721c24;'>Was is 1000 - 347?</span>\n",
       "        </div>\n",
       "            </div>"
      ],
      "text/plain": [
       "<IPython.core.display.HTML object>"
      ]
     },
     "metadata": {},
     "output_type": "display_data"
    }
   ],
   "source": [
    "# Test 2: Subtraction\n",
    "prompt2 = \"What is 1000 - 347? Give only the numerical answer.\"\n",
    "correct2 = \"653\"\n",
    "\n",
    "# Get responses from all models\n",
    "t5_result2 = generate_t5_response(prompt2, max_length=20)\n",
    "gpt2_result2 = generate_gpt2_response(prompt2, max_length=50)\n",
    "distilgpt2_result2 = generate_distilgpt2_response(prompt2, max_length=50)\n",
    "t5small_result2 = generate_t5small_response(prompt2, max_length=20)\n",
    "\n",
    "display_comparison(\n",
    "    \"Simple Subtraction\",\n",
    "    \"What is 1000 - 347?\",\n",
    "    correct2,\n",
    "    t5_result2,\n",
    "    None,  # BART not suitable for math\n",
    "    gpt2_result2,\n",
    "    distilgpt2_result2,\n",
    "    t5small_result2\n",
    ")"
   ]
  },
  {
   "cell_type": "code",
   "execution_count": 52,
   "id": "a1b49339",
   "metadata": {},
   "outputs": [
    {
     "data": {
      "text/html": [
       "\n",
       "    <div style='background-color: #f0f0f0; padding: 20px; border-radius: 10px; margin: 10px 0; border: 2px solid #95a5a6;'>\n",
       "        <h3 style='color: #2c3e50;'>🧪 Test Case: Simple Multiplication</h3>\n",
       "        <div style='background-color: white; color: #2c3e50; padding: 15px; margin: 10px 0; border-left: 4px solid #3498db;'>\n",
       "            <strong style='font-size: 16px;'>📝 Input:</strong><br>\n",
       "            <span style='font-size: 18px; color: #2c3e50;'>What is 23 × 17?</span>\n",
       "        </div>\n",
       "        <div style='background-color: #d4edda; color: #155724; padding: 15px; margin: 10px 0; border-left: 4px solid #28a745;'>\n",
       "            <strong style='font-size: 16px;'>✓ Correct Answer:</strong><br>\n",
       "            <span style='font-size: 22px; font-weight: bold; color: #155724;'>391</span>\n",
       "        </div>\n",
       "    \n",
       "        <div style='background-color: #f8d7da; color: #721c24; padding: 15px; margin: 10px 0; border-left: 4px solid #dc3545; border: 2px solid #dc3545;'>\n",
       "            <strong style='font-size: 16px;'>❌ FLAN-T5-Large:</strong> <span style=\"font-size: 20px; color: #dc3545; font-weight: bold;\">WRONG!</span><br>\n",
       "            <span style='font-size: 20px; font-weight: bold; color: #721c24;'>3</span>\n",
       "        </div>\n",
       "            \n",
       "        <div style='background-color: #f8d7da; color: #721c24; padding: 15px; margin: 10px 0; border-left: 4px solid #dc3545; border: 2px solid #dc3545;'>\n",
       "            <strong style='font-size: 16px;'>❌ GPT-2:</strong> <span style=\"font-size: 20px; color: #dc3545; font-weight: bold;\">WRONG!</span><br>\n",
       "            <span style='font-size: 20px; font-weight: bold; color: #721c24;'>What is 23 × 17? Give only the numerical answer.\n",
       "\n",
       "For example, the answer is 23 × 17. If you mean 23 × 17, then it is 23 × 17. It is 23 × 17 when it is 23 × 17,</span>\n",
       "        </div>\n",
       "            \n",
       "        <div style='background-color: #fff3cd; color: #721c24; padding: 15px; margin: 10px 0; border-left: 4px solid #ffc107; border: 2px solid #ffc107;'>\n",
       "            <strong style='font-size: 16px;'>❌ DistilGPT-2:</strong> <span style=\"font-size: 20px; color: #dc3545; font-weight: bold;\">WRONG!</span><br>\n",
       "            <span style='font-size: 20px; font-weight: bold; color: #721c24;'>What is 23 × 17? Give only the numerical answer.\n",
       "\n",
       "\n",
       "\n",
       "\n",
       "\n",
       "\n",
       "\n",
       "\n",
       "\n",
       "\n",
       "\n",
       "\n",
       "\n",
       "\n",
       "\n",
       "\n",
       "\n",
       "\n",
       "\n",
       "\n",
       "\n",
       "\n",
       "\n",
       "\n",
       "\n",
       "\n",
       "\n",
       "\n",
       "\n",
       "\n",
       "\n",
       "\n",
       "\n",
       "\n",
       "\n",
       "\n",
       "\n",
       "</span>\n",
       "        </div>\n",
       "            \n",
       "        <div style='background-color: #e8daef; color: #721c24; padding: 15px; margin: 10px 0; border-left: 4px solid #9b59b6; border: 2px solid #9b59b6;'>\n",
       "            <strong style='font-size: 16px;'>❌ T5-small:</strong> <span style=\"font-size: 20px; color: #dc3545; font-weight: bold;\">WRONG!</span><br>\n",
       "            <span style='font-size: 20px; font-weight: bold; color: #721c24;'>Geben Sie nur die numerische Antwort.</span>\n",
       "        </div>\n",
       "            </div>"
      ],
      "text/plain": [
       "<IPython.core.display.HTML object>"
      ]
     },
     "metadata": {},
     "output_type": "display_data"
    }
   ],
   "source": [
    "# Test 3: Multiplication\n",
    "prompt3 = \"What is 23 × 17? Give only the numerical answer.\"\n",
    "correct3 = \"391\"\n",
    "\n",
    "# Get responses from all models\n",
    "t5_result3 = generate_t5_response(prompt3, max_length=20)\n",
    "gpt2_result3 = generate_gpt2_response(prompt3, max_length=50)\n",
    "distilgpt2_result3 = generate_distilgpt2_response(prompt3, max_length=50)\n",
    "t5small_result3 = generate_t5small_response(prompt3, max_length=20)\n",
    "\n",
    "display_comparison(\n",
    "    \"Simple Multiplication\",\n",
    "    \"What is 23 × 17?\",\n",
    "    correct3,\n",
    "    t5_result3,\n",
    "    None,  # BART not suitable for math\n",
    "    gpt2_result3,\n",
    "    distilgpt2_result3,\n",
    "    t5small_result3\n",
    ")"
   ]
  },
  {
   "cell_type": "markdown",
   "id": "544385f9",
   "metadata": {},
   "source": [
    "### 💡 Key Insight #1\n",
    "All tested models - **FLAN-T5-Large** (780M params, Google 2022), **GPT-2** (117M params, OpenAI 2019), **DistilGPT-2** (82M params, OpenAI 2019), and **T5-small** (60M params, Google 2019) - are **guessing** based on patterns in text, not actually computing. They have no concept of what \"addition\" means mathematically.\n",
    "\n",
    "**Even models from the same companies but different sizes fail at basic arithmetic!** Notice how different models give different wrong answers - proving this is a systematic limitation across model architectures and sizes."
   ]
  },
  {
   "cell_type": "markdown",
   "id": "d1807c31",
   "metadata": {},
   "source": [
    "---\n",
    "# 🎯 DEMONSTRATION 2: Financial Reporting Disasters\n",
    "\n",
    "**Scenario:** An AI summarizes quarterly financial reports for executive briefings.\n",
    "\n",
    "**Risk:** Incorrect numbers could lead to catastrophic business decisions."
   ]
  },
  {
   "cell_type": "code",
   "execution_count": 53,
   "id": "4db49dce",
   "metadata": {},
   "outputs": [
    {
     "name": "stderr",
     "output_type": "stream",
     "text": [
      "Your max_length is set to 130, but your input_length is only 91. Since this is a summarization task, where outputs shorter than the input are typically wanted, you might consider decreasing max_length manually, e.g. summarizer('...', max_length=45)\n"
     ]
    },
    {
     "data": {
      "text/html": [
       "\n",
       "    <div style='background-color: #f0f0f0; padding: 20px; border-radius: 10px; margin: 10px 0; border: 2px solid #95a5a6;'>\n",
       "        <h3 style='color: #2c3e50;'>🧪 Test Case: Financial Report Summarization</h3>\n",
       "        <div style='background-color: white; color: #2c3e50; padding: 15px; margin: 10px 0; border-left: 4px solid #3498db;'>\n",
       "            <strong style='font-size: 16px;'>📝 Input:</strong><br>\n",
       "            <span style='font-size: 18px; color: #2c3e50;'>\n",
       "TechCorp reported quarterly earnings for Q3 2024. Revenue reached $450 million, representing \n",
       "a 23% increase from the previous quarter's $366 million. Operating expenses were $280 million, \n",
       "resulting in an operating profit of $170 million. The company's net profit margin improved to \n",
       "32%, up from 28% in Q2. Employee headcount grew from 1,250 to 1,450 employees.\n",
       "</span>\n",
       "        </div>\n",
       "        <div style='background-color: #d4edda; color: #155724; padding: 15px; margin: 10px 0; border-left: 4px solid #28a745;'>\n",
       "            <strong style='font-size: 16px;'>✓ Correct Answer:</strong><br>\n",
       "            <span style='font-size: 22px; font-weight: bold; color: #155724;'>TechCorp's Q3 2024 revenue: $450M (23% increase from $366M in Q2). \n",
       "Operating expenses: $280M. Operating profit: $170M. Net profit margin: 32% (up from 28%). \n",
       "Employees: 1,450 (up from 1,250).</span>\n",
       "        </div>\n",
       "    \n",
       "        <div style='background-color: #f8d7da; color: #721c24; padding: 15px; margin: 10px 0; border-left: 4px solid #dc3545; border: 2px solid #dc3545;'>\n",
       "            <strong style='font-size: 16px;'>❌ BART:</strong> <span style=\"font-size: 20px; color: #dc3545; font-weight: bold;\">WRONG!</span><br>\n",
       "            <span style='font-size: 20px; font-weight: bold; color: #721c24;'>TechCorp reported quarterly earnings for Q3 2024. Revenue reached $450 million, representing a 23% increase from the previous quarter's $366 million. Employee headcount grew from 1,250 to 1,450 employees.</span>\n",
       "        </div>\n",
       "            </div>"
      ],
      "text/plain": [
       "<IPython.core.display.HTML object>"
      ]
     },
     "metadata": {},
     "output_type": "display_data"
    },
    {
     "data": {
      "text/markdown": [
       "### ⚠️ Analysis"
      ],
      "text/plain": [
       "<IPython.core.display.Markdown object>"
      ]
     },
     "metadata": {},
     "output_type": "display_data"
    },
    {
     "data": {
      "text/markdown": [
       "\n",
       "Check if the summary correctly preserves:\n",
       "- ✓ Revenue: $450 million\n",
       "- ✓ Growth rate: 23%\n",
       "- ✓ Previous revenue: $366 million\n",
       "- ✓ Operating expenses: $280 million\n",
       "- ✓ Operating profit: $170 million\n",
       "- ✓ Profit margins: 32% (current), 28% (previous)\n",
       "- ✓ Employee counts: 1,450 (current), 1,250 (previous)\n",
       "\n",
       "**Even a single numerical error could mislead executives and investors.**\n"
      ],
      "text/plain": [
       "<IPython.core.display.Markdown object>"
      ]
     },
     "metadata": {},
     "output_type": "display_data"
    }
   ],
   "source": [
    "financial_report = \"\"\"\n",
    "TechCorp reported quarterly earnings for Q3 2024. Revenue reached $450 million, representing \n",
    "a 23% increase from the previous quarter's $366 million. Operating expenses were $280 million, \n",
    "resulting in an operating profit of $170 million. The company's net profit margin improved to \n",
    "32%, up from 28% in Q2. Employee headcount grew from 1,250 to 1,450 employees.\n",
    "\"\"\"\n",
    "\n",
    "correct_summary = \"\"\"TechCorp's Q3 2024 revenue: $450M (23% increase from $366M in Q2). \n",
    "Operating expenses: $280M. Operating profit: $170M. Net profit margin: 32% (up from 28%). \n",
    "Employees: 1,450 (up from 1,250).\"\"\"\n",
    "\n",
    "bart_summary = generate_bart_summary(financial_report)\n",
    "\n",
    "display_comparison(\n",
    "    \"Financial Report Summarization\",\n",
    "    financial_report,\n",
    "    correct_summary,\n",
    "    None,\n",
    "    bart_summary\n",
    ")\n",
    "\n",
    "# Let's highlight the numerical accuracy\n",
    "display(Markdown(\"### ⚠️ Analysis\"))\n",
    "display(Markdown(\"\"\"\n",
    "Check if the summary correctly preserves:\n",
    "- ✓ Revenue: $450 million\n",
    "- ✓ Growth rate: 23%\n",
    "- ✓ Previous revenue: $366 million\n",
    "- ✓ Operating expenses: $280 million\n",
    "- ✓ Operating profit: $170 million\n",
    "- ✓ Profit margins: 32% (current), 28% (previous)\n",
    "- ✓ Employee counts: 1,450 (current), 1,250 (previous)\n",
    "\n",
    "**Even a single numerical error could mislead executives and investors.**\n",
    "\"\"\"))"
   ]
  },
  {
   "cell_type": "markdown",
   "id": "15aecd39",
   "metadata": {},
   "source": [
    "---\n",
    "# 🎯 DEMONSTRATION 3: The Rephrasing Test\n",
    "\n",
    "**Hypothesis:** If the model truly \"understands\" math, rephrasing shouldn't change the answer.\n",
    "\n",
    "**Let's test this:**"
   ]
  },
  {
   "cell_type": "code",
   "execution_count": 54,
   "id": "07cf5fab",
   "metadata": {},
   "outputs": [
    {
     "name": "stdout",
     "output_type": "stream",
     "text": [
      "Variation 1: 23 + 15 = 35 apples.\n",
      "Variation 2: 3\n",
      "Variation 2: 3\n",
      "Variation 3: 4\n",
      "Variation 3: 4\n"
     ]
    },
    {
     "data": {
      "text/markdown": [
       "\n",
       "### 📊 Consistency Check\n",
       "- **Correct Answer:** 38\n",
       "- **Variation 1 (word problem):** 23 + 15 = 35 apples.\n",
       "- **Variation 2 (formal):** 3\n",
       "- **Variation 3 (symbolic):** 4\n",
       "\n",
       "**Observation:** Different phrasings of the same problem yield different (often wrong) answers across all models. \n",
       "This proves the models don't understand the underlying mathematics - they're pattern matching, not computing.\n"
      ],
      "text/plain": [
       "<IPython.core.display.Markdown object>"
      ]
     },
     "metadata": {},
     "output_type": "display_data"
    }
   ],
   "source": [
    "# Same math problem, three different phrasings\n",
    "test_cases = [\n",
    "    \"If you have 15 apples and buy 23 more, how many apples do you have? Give only the number.\",\n",
    "    \"Calculate the total: 15 apples plus 23 apples. Give only the number.\",\n",
    "    \"15 + 23 = ?\"\n",
    "]\n",
    "\n",
    "correct = \"38\"\n",
    "\n",
    "results = []\n",
    "for i, prompt in enumerate(test_cases, 1):\n",
    "    result = generate_t5_response(prompt, max_length=20)\n",
    "    results.append(result)\n",
    "    print(f\"Variation {i}: {result}\")\n",
    "\n",
    "display(Markdown(f\"\"\"\n",
    "### 📊 Consistency Check\n",
    "- **Correct Answer:** {correct}\n",
    "- **Variation 1 (word problem):** {results[0]}\n",
    "- **Variation 2 (formal):** {results[1]}\n",
    "- **Variation 3 (symbolic):** {results[2]}\n",
    "\n",
    "**Observation:** Different phrasings of the same problem yield different (often wrong) answers across all models. \n",
    "This proves the models don't understand the underlying mathematics - they're pattern matching, not computing.\n",
    "\"\"\"))"
   ]
  },
  {
   "cell_type": "markdown",
   "id": "67689956",
   "metadata": {},
   "source": [
    "---\n",
    "# 🎯 DEMONSTRATION 4: Counting Objects\n",
    "\n",
    "**Task:** Count explicit items in a list. This is simpler than arithmetic!"
   ]
  },
  {
   "cell_type": "code",
   "execution_count": 55,
   "id": "0768bab2",
   "metadata": {},
   "outputs": [
    {
     "data": {
      "text/html": [
       "\n",
       "    <div style='background-color: #f0f0f0; padding: 20px; border-radius: 10px; margin: 10px 0; border: 2px solid #95a5a6;'>\n",
       "        <h3 style='color: #2c3e50;'>🧪 Test Case: Counting Objects</h3>\n",
       "        <div style='background-color: white; color: #2c3e50; padding: 15px; margin: 10px 0; border-left: 4px solid #3498db;'>\n",
       "            <strong style='font-size: 16px;'>📝 Input:</strong><br>\n",
       "            <span style='font-size: 18px; color: #2c3e50;'>Count the people: John, Mary, Steve, Alice, Bob, Carol, David, Emma, Frank, Grace</span>\n",
       "        </div>\n",
       "        <div style='background-color: #d4edda; color: #155724; padding: 15px; margin: 10px 0; border-left: 4px solid #28a745;'>\n",
       "            <strong style='font-size: 16px;'>✓ Correct Answer:</strong><br>\n",
       "            <span style='font-size: 22px; font-weight: bold; color: #155724;'>10</span>\n",
       "        </div>\n",
       "    \n",
       "        <div style='background-color: #f8d7da; color: #721c24; padding: 15px; margin: 10px 0; border-left: 4px solid #dc3545; border: 2px solid #dc3545;'>\n",
       "            <strong style='font-size: 16px;'>❌ FLAN-T5-Large:</strong> <span style=\"font-size: 20px; color: #dc3545; font-weight: bold;\">WRONG!</span><br>\n",
       "            <span style='font-size: 20px; font-weight: bold; color: #721c24;'>9</span>\n",
       "        </div>\n",
       "            \n",
       "        <div style='background-color: #f8d7da; color: #721c24; padding: 15px; margin: 10px 0; border-left: 4px solid #dc3545; border: 2px solid #dc3545;'>\n",
       "            <strong style='font-size: 16px;'>❌ GPT-2:</strong> <span style=\"font-size: 20px; color: #dc3545; font-weight: bold;\">WRONG!</span><br>\n",
       "            <span style='font-size: 20px; font-weight: bold; color: #721c24;'>Count the number of people in this list: John, Mary, Steve, Alice, Bob, Carol, David, Emma, Frank, Grace. Give only the number.\n",
       "\n",
       "If you have questions about this list please contact the website's moderators,</span>\n",
       "        </div>\n",
       "            \n",
       "        <div style='background-color: #fff3cd; color: #721c24; padding: 15px; margin: 10px 0; border-left: 4px solid #ffc107; border: 2px solid #ffc107;'>\n",
       "            <strong style='font-size: 16px;'>❌ DistilGPT-2:</strong> <span style=\"font-size: 20px; color: #dc3545; font-weight: bold;\">WRONG!</span><br>\n",
       "            <span style='font-size: 20px; font-weight: bold; color: #721c24;'>Count the number of people in this list: John, Mary, Steve, Alice, Bob, Carol, David, Emma, Frank, Grace. Give only the number.</span>\n",
       "        </div>\n",
       "            \n",
       "        <div style='background-color: #e8daef; color: #721c24; padding: 15px; margin: 10px 0; border-left: 4px solid #9b59b6; border: 2px solid #9b59b6;'>\n",
       "            <strong style='font-size: 16px;'>❌ T5-small:</strong> <span style=\"font-size: 20px; color: #dc3545; font-weight: bold;\">WRONG!</span><br>\n",
       "            <span style='font-size: 20px; font-weight: bold; color: #721c24;'>Count the number of people in this list: John, Mary, Steve, Alice, Bob</span>\n",
       "        </div>\n",
       "            </div>"
      ],
      "text/plain": [
       "<IPython.core.display.HTML object>"
      ]
     },
     "metadata": {},
     "output_type": "display_data"
    }
   ],
   "source": [
    "counting_prompt = \"\"\"Count the number of people in this list: John, Mary, Steve, Alice, Bob, Carol, David, Emma, Frank, Grace. Give only the number.\"\"\"\n",
    "\n",
    "correct_count = \"10\"\n",
    "\n",
    "# Get responses from all models\n",
    "t5_count = generate_t5_response(counting_prompt, max_length=20)\n",
    "gpt2_count = generate_gpt2_response(counting_prompt, max_length=50)\n",
    "distilgpt2_count = generate_distilgpt2_response(counting_prompt, max_length=50)\n",
    "t5small_count = generate_t5small_response(counting_prompt, max_length=20)\n",
    "\n",
    "display_comparison(\n",
    "    \"Counting Objects\",\n",
    "    \"Count the people: John, Mary, Steve, Alice, Bob, Carol, David, Emma, Frank, Grace\",\n",
    "    correct_count,\n",
    "    t5_count,\n",
    "    None,  # BART not suitable for counting\n",
    "    gpt2_count,\n",
    "    distilgpt2_count,\n",
    "    t5small_count\n",
    ")"
   ]
  },
  {
   "cell_type": "markdown",
   "id": "fdaffd74",
   "metadata": {},
   "source": [
    "---\n",
    "# 🎯 DEMONSTRATION 5: Medical Dosage - A Dangerous Failure\n",
    "\n",
    "**Critical Scenario:** Medical record summarization with dosage calculations"
   ]
  },
  {
   "cell_type": "code",
   "execution_count": 56,
   "id": "e0f81532",
   "metadata": {},
   "outputs": [
    {
     "name": "stderr",
     "output_type": "stream",
     "text": [
      "Your max_length is set to 100, but your input_length is only 70. Since this is a summarization task, where outputs shorter than the input are typically wanted, you might consider decreasing max_length manually, e.g. summarizer('...', max_length=35)\n"
     ]
    },
    {
     "data": {
      "text/html": [
       "\n",
       "    <div style='background-color: #f0f0f0; padding: 20px; border-radius: 10px; margin: 10px 0; border: 2px solid #95a5a6;'>\n",
       "        <h3 style='color: #2c3e50;'>🧪 Test Case: Medical Dosage Summary</h3>\n",
       "        <div style='background-color: white; color: #2c3e50; padding: 15px; margin: 10px 0; border-left: 4px solid #3498db;'>\n",
       "            <strong style='font-size: 16px;'>📝 Input:</strong><br>\n",
       "            <span style='font-size: 18px; color: #2c3e50;'>\n",
       "Patient prescribed medication as follows: Morning dose of 50mg, afternoon dose of 50mg, \n",
       "evening dose of 50mg. Total daily dosage is 150mg. Patient weight: 68kg. \n",
       "Dosage per kg: 2.2mg/kg. Maximum safe dose: 200mg per day.\n",
       "</span>\n",
       "        </div>\n",
       "        <div style='background-color: #d4edda; color: #155724; padding: 15px; margin: 10px 0; border-left: 4px solid #28a745;'>\n",
       "            <strong style='font-size: 16px;'>✓ Correct Answer:</strong><br>\n",
       "            <span style='font-size: 22px; font-weight: bold; color: #155724;'>Daily dosage: 150mg (50mg × 3 doses). Patient: 68kg. \n",
       "Per kg dosage: 2.2mg/kg. Maximum safe: 200mg. Current dose is within safe limits.</span>\n",
       "        </div>\n",
       "    \n",
       "        <div style='background-color: #f8d7da; color: #721c24; padding: 15px; margin: 10px 0; border-left: 4px solid #dc3545; border: 2px solid #dc3545;'>\n",
       "            <strong style='font-size: 16px;'>❌ GPT-2:</strong> <span style=\"font-size: 20px; color: #dc3545; font-weight: bold;\">WRONG!</span><br>\n",
       "            <span style='font-size: 20px; font-weight: bold; color: #721c24;'>Summarize this medical record: \n",
       "Patient prescribed medication as follows: Morning dose of 50mg, afternoon dose of 50mg, \n",
       "evening dose of 50mg. Total daily dosage is 150mg. Patient weight: 68kg. \n",
       "Dosage per kg: 2.2mg/kg. Maximum safe dose: 200mg per day.\n",
       "The following information appears in a medical record of a patient, who is prescribed medications as follows:\n",
       "All medications in this record</span>\n",
       "        </div>\n",
       "            \n",
       "        <div style='background-color: #f8d7da; color: #721c24; padding: 15px; margin: 10px 0; border-left: 4px solid #dc3545; border: 2px solid #dc3545;'>\n",
       "            <strong style='font-size: 16px;'>❌ BART:</strong> <span style=\"font-size: 20px; color: #dc3545; font-weight: bold;\">WRONG!</span><br>\n",
       "            <span style='font-size: 20px; font-weight: bold; color: #721c24;'>Dosage per kg: 2.2mg/kg. Maximum safe dose: 200mg per day. Total daily dosage is 150mg. Patient weight: 68kg.</span>\n",
       "        </div>\n",
       "            </div>"
      ],
      "text/plain": [
       "<IPython.core.display.HTML object>"
      ]
     },
     "metadata": {},
     "output_type": "display_data"
    },
    {
     "data": {
      "text/markdown": [
       "\n",
       "### 🚨 Critical Risk Assessment\n",
       "In healthcare, numerical accuracy is literally life-or-death. An error in:\n",
       "- **Dosage calculation** → Overdose or underdose\n",
       "- **Patient weight** → Incorrect medication amount\n",
       "- **Safety thresholds** → Dangerous prescriptions\n",
       "\n",
       "**This is why we cannot blindly trust AI with numerical data.**\n"
      ],
      "text/plain": [
       "<IPython.core.display.Markdown object>"
      ]
     },
     "metadata": {},
     "output_type": "display_data"
    }
   ],
   "source": [
    "medical_text = \"\"\"\n",
    "Patient prescribed medication as follows: Morning dose of 50mg, afternoon dose of 50mg, \n",
    "evening dose of 50mg. Total daily dosage is 150mg. Patient weight: 68kg. \n",
    "Dosage per kg: 2.2mg/kg. Maximum safe dose: 200mg per day.\n",
    "\"\"\"\n",
    "\n",
    "correct_medical = \"\"\"Daily dosage: 150mg (50mg × 3 doses). Patient: 68kg. \n",
    "Per kg dosage: 2.2mg/kg. Maximum safe: 200mg. Current dose is within safe limits.\"\"\"\n",
    "\n",
    "# Get responses from models\n",
    "bart_medical = generate_bart_summary(medical_text, max_length=100, min_length=30)\n",
    "gpt2_medical = generate_gpt2_response(\"Summarize this medical record: \" + medical_text, max_length=100)\n",
    "\n",
    "display_comparison(\n",
    "    \"Medical Dosage Summary\",\n",
    "    medical_text,\n",
    "    correct_medical,\n",
    "    None,\n",
    "    bart_medical,\n",
    "    gpt2_medical\n",
    ")\n",
    "\n",
    "display(Markdown(\"\"\"\n",
    "### 🚨 Critical Risk Assessment\n",
    "In healthcare, numerical accuracy is literally life-or-death. An error in:\n",
    "- **Dosage calculation** → Overdose or underdose\n",
    "- **Patient weight** → Incorrect medication amount\n",
    "- **Safety thresholds** → Dangerous prescriptions\n",
    "\n",
    "**This is why we cannot blindly trust AI with numerical data.**\n",
    "\"\"\"))"
   ]
  },
  {
   "cell_type": "markdown",
   "id": "51e57717",
   "metadata": {},
   "source": [
    "---\n",
    "# 🎯 DEMONSTRATION 6: Aggregate Statistics\n",
    "\n",
    "**Test:** Can the model correctly compute simple statistics?"
   ]
  },
  {
   "cell_type": "code",
   "execution_count": 57,
   "id": "13a238d5",
   "metadata": {},
   "outputs": [
    {
     "data": {
      "text/html": [
       "\n",
       "    <div style='background-color: #f0f0f0; padding: 20px; border-radius: 10px; margin: 10px 0; border: 2px solid #95a5a6;'>\n",
       "        <h3 style='color: #2c3e50;'>🧪 Test Case: Average Calculation</h3>\n",
       "        <div style='background-color: white; color: #2c3e50; padding: 15px; margin: 10px 0; border-left: 4px solid #3498db;'>\n",
       "            <strong style='font-size: 16px;'>📝 Input:</strong><br>\n",
       "            <span style='font-size: 18px; color: #2c3e50;'>Average of: 85, 90, 78, 92, 88</span>\n",
       "        </div>\n",
       "        <div style='background-color: #d4edda; color: #155724; padding: 15px; margin: 10px 0; border-left: 4px solid #28a745;'>\n",
       "            <strong style='font-size: 16px;'>✓ Correct Answer:</strong><br>\n",
       "            <span style='font-size: 22px; font-weight: bold; color: #155724;'>86.6</span>\n",
       "        </div>\n",
       "    \n",
       "        <div style='background-color: #f8d7da; color: #721c24; padding: 15px; margin: 10px 0; border-left: 4px solid #dc3545; border: 2px solid #dc3545;'>\n",
       "            <strong style='font-size: 16px;'>❌ FLAN-T5-Large:</strong> <span style=\"font-size: 20px; color: #dc3545; font-weight: bold;\">WRONG!</span><br>\n",
       "            <span style='font-size: 20px; font-weight: bold; color: #721c24;'>79.4</span>\n",
       "        </div>\n",
       "            \n",
       "        <div style='background-color: #f8d7da; color: #721c24; padding: 15px; margin: 10px 0; border-left: 4px solid #dc3545; border: 2px solid #dc3545;'>\n",
       "            <strong style='font-size: 16px;'>❌ GPT-2:</strong> <span style=\"font-size: 20px; color: #dc3545; font-weight: bold;\">WRONG!</span><br>\n",
       "            <span style='font-size: 20px; font-weight: bold; color: #721c24;'>The test scores are: 85, 90, 78, 92, 88. What is the average score? Give only the numerical answer.\n",
       "\n",
       "\n",
       "What is the average score? Give only the numerical answer. The test scores are: 85, 90,</span>\n",
       "        </div>\n",
       "            \n",
       "        <div style='background-color: #fff3cd; color: #721c24; padding: 15px; margin: 10px 0; border-left: 4px solid #ffc107; border: 2px solid #ffc107;'>\n",
       "            <strong style='font-size: 16px;'>❌ DistilGPT-2:</strong> <span style=\"font-size: 20px; color: #dc3545; font-weight: bold;\">WRONG!</span><br>\n",
       "            <span style='font-size: 20px; font-weight: bold; color: #721c24;'>The test scores are: 85, 90, 78, 92, 88. What is the average score? Give only the numerical answer.\n",
       "\n",
       "\n",
       "\n",
       "\n",
       "In the United States, the average score is a low-scoring score, with a high</span>\n",
       "        </div>\n",
       "            \n",
       "        <div style='background-color: #e8daef; color: #721c24; padding: 15px; margin: 10px 0; border-left: 4px solid #9b59b6; border: 2px solid #9b59b6;'>\n",
       "            <strong style='font-size: 16px;'>❌ T5-small:</strong> <span style=\"font-size: 20px; color: #dc3545; font-weight: bold;\">WRONG!</span><br>\n",
       "            <span style='font-size: 20px; font-weight: bold; color: #721c24;'>: 85, 90, 78, 92, 88. What is the average</span>\n",
       "        </div>\n",
       "            </div>"
      ],
      "text/plain": [
       "<IPython.core.display.HTML object>"
      ]
     },
     "metadata": {},
     "output_type": "display_data"
    }
   ],
   "source": [
    "stats_prompt = \"\"\"The test scores are: 85, 90, 78, 92, 88. What is the average score? Give only the numerical answer.\"\"\"\n",
    "\n",
    "correct_avg = \"86.6\"\n",
    "\n",
    "# Get responses from all models\n",
    "t5_avg = generate_t5_response(stats_prompt, max_length=20)\n",
    "gpt2_avg = generate_gpt2_response(stats_prompt, max_length=50)\n",
    "distilgpt2_avg = generate_distilgpt2_response(stats_prompt, max_length=50)\n",
    "t5small_avg = generate_t5small_response(stats_prompt, max_length=20)\n",
    "\n",
    "display_comparison(\n",
    "    \"Average Calculation\",\n",
    "    \"Average of: 85, 90, 78, 92, 88\",\n",
    "    correct_avg,\n",
    "    t5_avg,\n",
    "    None,  # BART not suitable for math\n",
    "    gpt2_avg,\n",
    "    distilgpt2_avg,\n",
    "    t5small_avg\n",
    ")"
   ]
  },
  {
   "cell_type": "markdown",
   "id": "5e02bebb",
   "metadata": {},
   "source": [
    "---\n",
    "# 📊 Quantitative Analysis\n",
    "\n",
    "Let's test multiple cases and measure accuracy systematically."
   ]
  },
  {
   "cell_type": "code",
   "execution_count": 58,
   "id": "6bf13c74",
   "metadata": {},
   "outputs": [
    {
     "data": {
      "application/vnd.microsoft.datawrangler.viewer.v0+json": {
       "columns": [
        {
         "name": "index",
         "rawType": "int64",
         "type": "integer"
        },
        {
         "name": "Category",
         "rawType": "object",
         "type": "string"
        },
        {
         "name": "Correct Answer",
         "rawType": "object",
         "type": "string"
        },
        {
         "name": "Model Output",
         "rawType": "object",
         "type": "string"
        },
        {
         "name": "Accurate",
         "rawType": "object",
         "type": "string"
        }
       ],
       "ref": "035b1bde-6c1b-466f-9e2d-4b0d50e8bc1c",
       "rows": [
        [
         "0",
         "Addition",
         "112",
         "7",
         "✗"
        ],
        [
         "1",
         "Addition",
         "579",
         "18",
         "✗"
        ],
        [
         "2",
         "Addition",
         "123",
         "7",
         "✗"
        ],
        [
         "3",
         "Subtraction",
         "145",
         "9",
         "✗"
        ],
        [
         "4",
         "Subtraction",
         "322",
         "57",
         "✗"
        ],
        [
         "5",
         "Subtraction",
         "653",
         "57",
         "✗"
        ],
        [
         "6",
         "Multiplication",
         "96",
         "4",
         "✗"
        ],
        [
         "7",
         "Multiplication",
         "105",
         "3",
         "✗"
        ],
        [
         "8",
         "Multiplication",
         "100",
         "4",
         "✗"
        ],
        [
         "9",
         "Division",
         "12",
         "6",
         "✗"
        ],
        [
         "10",
         "Division",
         "20",
         "5",
         "✗"
        ],
        [
         "11",
         "Division",
         "9",
         "3",
         "✗"
        ],
        [
         "12",
         "Percentage",
         "20",
         "5",
         "✗"
        ],
        [
         "13",
         "Percentage",
         "20",
         "10",
         "✗"
        ],
        [
         "14",
         "Applied Math",
         "$20",
         "$25 x 20 / 100 = $5.",
         "✗"
        ],
        [
         "15",
         "Applied Math",
         "21",
         "365",
         "✗"
        ]
       ],
       "shape": {
        "columns": 4,
        "rows": 16
       }
      },
      "text/html": [
       "<div>\n",
       "<style scoped>\n",
       "    .dataframe tbody tr th:only-of-type {\n",
       "        vertical-align: middle;\n",
       "    }\n",
       "\n",
       "    .dataframe tbody tr th {\n",
       "        vertical-align: top;\n",
       "    }\n",
       "\n",
       "    .dataframe thead th {\n",
       "        text-align: right;\n",
       "    }\n",
       "</style>\n",
       "<table border=\"1\" class=\"dataframe\">\n",
       "  <thead>\n",
       "    <tr style=\"text-align: right;\">\n",
       "      <th></th>\n",
       "      <th>Category</th>\n",
       "      <th>Correct Answer</th>\n",
       "      <th>Model Output</th>\n",
       "      <th>Accurate</th>\n",
       "    </tr>\n",
       "  </thead>\n",
       "  <tbody>\n",
       "    <tr>\n",
       "      <th>0</th>\n",
       "      <td>Addition</td>\n",
       "      <td>112</td>\n",
       "      <td>7</td>\n",
       "      <td>✗</td>\n",
       "    </tr>\n",
       "    <tr>\n",
       "      <th>1</th>\n",
       "      <td>Addition</td>\n",
       "      <td>579</td>\n",
       "      <td>18</td>\n",
       "      <td>✗</td>\n",
       "    </tr>\n",
       "    <tr>\n",
       "      <th>2</th>\n",
       "      <td>Addition</td>\n",
       "      <td>123</td>\n",
       "      <td>7</td>\n",
       "      <td>✗</td>\n",
       "    </tr>\n",
       "    <tr>\n",
       "      <th>3</th>\n",
       "      <td>Subtraction</td>\n",
       "      <td>145</td>\n",
       "      <td>9</td>\n",
       "      <td>✗</td>\n",
       "    </tr>\n",
       "    <tr>\n",
       "      <th>4</th>\n",
       "      <td>Subtraction</td>\n",
       "      <td>322</td>\n",
       "      <td>57</td>\n",
       "      <td>✗</td>\n",
       "    </tr>\n",
       "    <tr>\n",
       "      <th>5</th>\n",
       "      <td>Subtraction</td>\n",
       "      <td>653</td>\n",
       "      <td>57</td>\n",
       "      <td>✗</td>\n",
       "    </tr>\n",
       "    <tr>\n",
       "      <th>6</th>\n",
       "      <td>Multiplication</td>\n",
       "      <td>96</td>\n",
       "      <td>4</td>\n",
       "      <td>✗</td>\n",
       "    </tr>\n",
       "    <tr>\n",
       "      <th>7</th>\n",
       "      <td>Multiplication</td>\n",
       "      <td>105</td>\n",
       "      <td>3</td>\n",
       "      <td>✗</td>\n",
       "    </tr>\n",
       "    <tr>\n",
       "      <th>8</th>\n",
       "      <td>Multiplication</td>\n",
       "      <td>100</td>\n",
       "      <td>4</td>\n",
       "      <td>✗</td>\n",
       "    </tr>\n",
       "    <tr>\n",
       "      <th>9</th>\n",
       "      <td>Division</td>\n",
       "      <td>12</td>\n",
       "      <td>6</td>\n",
       "      <td>✗</td>\n",
       "    </tr>\n",
       "    <tr>\n",
       "      <th>10</th>\n",
       "      <td>Division</td>\n",
       "      <td>20</td>\n",
       "      <td>5</td>\n",
       "      <td>✗</td>\n",
       "    </tr>\n",
       "    <tr>\n",
       "      <th>11</th>\n",
       "      <td>Division</td>\n",
       "      <td>9</td>\n",
       "      <td>3</td>\n",
       "      <td>✗</td>\n",
       "    </tr>\n",
       "    <tr>\n",
       "      <th>12</th>\n",
       "      <td>Percentage</td>\n",
       "      <td>20</td>\n",
       "      <td>5</td>\n",
       "      <td>✗</td>\n",
       "    </tr>\n",
       "    <tr>\n",
       "      <th>13</th>\n",
       "      <td>Percentage</td>\n",
       "      <td>20</td>\n",
       "      <td>10</td>\n",
       "      <td>✗</td>\n",
       "    </tr>\n",
       "    <tr>\n",
       "      <th>14</th>\n",
       "      <td>Applied Math</td>\n",
       "      <td>$20</td>\n",
       "      <td>$25 x 20 / 100 = $5.</td>\n",
       "      <td>✗</td>\n",
       "    </tr>\n",
       "    <tr>\n",
       "      <th>15</th>\n",
       "      <td>Applied Math</td>\n",
       "      <td>21</td>\n",
       "      <td>365</td>\n",
       "      <td>✗</td>\n",
       "    </tr>\n",
       "  </tbody>\n",
       "</table>\n",
       "</div>"
      ],
      "text/plain": [
       "          Category Correct Answer          Model Output Accurate\n",
       "0         Addition            112                     7        ✗\n",
       "1         Addition            579                    18        ✗\n",
       "2         Addition            123                     7        ✗\n",
       "3      Subtraction            145                     9        ✗\n",
       "4      Subtraction            322                    57        ✗\n",
       "5      Subtraction            653                    57        ✗\n",
       "6   Multiplication             96                     4        ✗\n",
       "7   Multiplication            105                     3        ✗\n",
       "8   Multiplication            100                     4        ✗\n",
       "9         Division             12                     6        ✗\n",
       "10        Division             20                     5        ✗\n",
       "11        Division              9                     3        ✗\n",
       "12      Percentage             20                     5        ✗\n",
       "13      Percentage             20                    10        ✗\n",
       "14    Applied Math            $20  $25 x 20 / 100 = $5.        ✗\n",
       "15    Applied Math             21                   365        ✗"
      ]
     },
     "metadata": {},
     "output_type": "display_data"
    },
    {
     "data": {
      "text/markdown": [
       "\n",
       "### 🎯 Overall Accuracy: 0.0%\n",
       "\n",
       "**A model that achieves 90%+ on complex language tasks fails spectacularly on elementary math.**\n"
      ],
      "text/plain": [
       "<IPython.core.display.Markdown object>"
      ]
     },
     "metadata": {},
     "output_type": "display_data"
    }
   ],
   "source": [
    "# Create comprehensive test suite with multiple tests per category\n",
    "test_suite = [\n",
    "    # Addition tests\n",
    "    {\"prompt\": \"45 + 67 = ?\", \"correct\": \"112\", \"category\": \"Addition\"},\n",
    "    {\"prompt\": \"123 + 456 = ?\", \"correct\": \"579\", \"category\": \"Addition\"},\n",
    "    {\"prompt\": \"89 + 34 = ?\", \"correct\": \"123\", \"category\": \"Addition\"},\n",
    "    \n",
    "    # Subtraction tests\n",
    "    {\"prompt\": \"234 - 89 = ?\", \"correct\": \"145\", \"category\": \"Subtraction\"},\n",
    "    {\"prompt\": \"500 - 178 = ?\", \"correct\": \"322\", \"category\": \"Subtraction\"},\n",
    "    {\"prompt\": \"1000 - 347 = ?\", \"correct\": \"653\", \"category\": \"Subtraction\"},\n",
    "    \n",
    "    # Multiplication tests\n",
    "    {\"prompt\": \"12 × 8 = ?\", \"correct\": \"96\", \"category\": \"Multiplication\"},\n",
    "    {\"prompt\": \"15 × 7 = ?\", \"correct\": \"105\", \"category\": \"Multiplication\"},\n",
    "    {\"prompt\": \"25 × 4 = ?\", \"correct\": \"100\", \"category\": \"Multiplication\"},\n",
    "    \n",
    "    # Division tests\n",
    "    {\"prompt\": \"144 ÷ 12 = ?\", \"correct\": \"12\", \"category\": \"Division\"},\n",
    "    {\"prompt\": \"100 ÷ 5 = ?\", \"correct\": \"20\", \"category\": \"Division\"},\n",
    "    {\"prompt\": \"81 ÷ 9 = ?\", \"correct\": \"9\", \"category\": \"Division\"},\n",
    "    \n",
    "    # Percentage tests\n",
    "    {\"prompt\": \"What is 25% of 80?\", \"correct\": \"20\", \"category\": \"Percentage\"},\n",
    "    {\"prompt\": \"What is 10% of 200?\", \"correct\": \"20\", \"category\": \"Percentage\"},\n",
    "    \n",
    "    # Applied Math tests\n",
    "    {\"prompt\": \"If a shirt costs $25 and is 20% off, what is the sale price?\", \"correct\": \"$20\", \"category\": \"Applied Math\"},\n",
    "    {\"prompt\": \"How many days in 3 weeks?\", \"correct\": \"21\", \"category\": \"Applied Math\"},\n",
    "]\n",
    "\n",
    "# Run tests\n",
    "results_df = []\n",
    "for test in test_suite:\n",
    "    output = generate_t5_response(test['prompt'], max_length=20).strip()\n",
    "    correct = test['correct'].strip()\n",
    "    is_correct = (output == correct)\n",
    "    \n",
    "    results_df.append({\n",
    "        'Category': test['category'],\n",
    "        'Correct Answer': correct,\n",
    "        'Model Output': output,\n",
    "        'Accurate': '✓' if is_correct else '✗'\n",
    "    })\n",
    "\n",
    "df = pd.DataFrame(results_df)\n",
    "display(df)\n",
    "\n",
    "# Calculate accuracy\n",
    "accuracy = (df['Accurate'] == '✓').sum() / len(df) * 100\n",
    "display(Markdown(f\"\"\"\n",
    "### 🎯 Overall Accuracy: {accuracy:.1f}%\n",
    "\n",
    "**A model that achieves 90%+ on complex language tasks fails spectacularly on elementary math.**\n",
    "\"\"\"))"
   ]
  },
  {
   "cell_type": "markdown",
   "id": "f7e80d43",
   "metadata": {},
   "source": [
    "---\n",
    "# 📈 Visualization: Success vs Failure"
   ]
  },
  {
   "cell_type": "code",
   "execution_count": 59,
   "id": "f5bceb7c",
   "metadata": {},
   "outputs": [
    {
     "data": {
      "image/png": "[encoded data removed]",
      "text/plain": [
       "<Figure size 1400x500 with 2 Axes>"
      ]
     },
     "metadata": {},
     "output_type": "display_data"
    },
    {
     "name": "stdout",
     "output_type": "stream",
     "text": [
      "\n",
      "============================================================\n",
      "📊 SUMMARY STATISTICS\n",
      "============================================================\n",
      "Total Tests Run: 16\n",
      "Correct Answers: 0 (0.0%)\n",
      "Incorrect Answers: 16 (100.0%)\n",
      "\n",
      "Accuracy by Category:\n",
      "  • Addition: 0.0%\n",
      "  • Applied Math: 0.0%\n",
      "  • Division: 0.0%\n",
      "  • Multiplication: 0.0%\n",
      "  • Percentage: 0.0%\n",
      "  • Subtraction: 0.0%\n",
      "============================================================\n"
     ]
    },
    {
     "data": {
      "text/plain": [
       "<Figure size 1200x600 with 0 Axes>"
      ]
     },
     "metadata": {},
     "output_type": "display_data"
    }
   ],
   "source": [
    "# Create visualization\n",
    "fig, (ax1, ax2) = plt.subplots(1, 2, figsize=(14, 5))\n",
    "\n",
    "# Accuracy by category - with improved visualization\n",
    "category_accuracy = df.groupby('Category')['Accurate'].apply(lambda x: (x == '✓').sum() / len(x) * 100)\n",
    "bars = category_accuracy.plot(kind='barh', ax=ax1, color='#e74c3c', edgecolor='black', linewidth=1.2)\n",
    "ax1.set_xlabel('Accuracy (%)', fontsize=12, fontweight='bold')\n",
    "ax1.set_ylabel('Math Category', fontsize=12, fontweight='bold')\n",
    "ax1.set_title('FLAN-T5-Large Model Accuracy by Math Category', fontsize=14, fontweight='bold', pad=20)\n",
    "ax1.set_xlim(0, 100)\n",
    "ax1.grid(axis='x', alpha=0.3, linestyle='--')\n",
    "\n",
    "# Add value labels on bars\n",
    "for i, v in enumerate(category_accuracy.values):\n",
    "    ax1.text(v + 2, i, f'{v:.0f}%', va='center', fontweight='bold', fontsize=10)\n",
    "\n",
    "# Overall pass/fail - improved pie chart\n",
    "pass_fail = df['Accurate'].value_counts()\n",
    "\n",
    "# Ensure both categories are present even if one is missing\n",
    "correct_count = (df['Accurate'] == '✓').sum()\n",
    "incorrect_count = (df['Accurate'] == '✗').sum()\n",
    "\n",
    "labels = ['✗ Incorrect', '✓ Correct']\n",
    "values = [incorrect_count, correct_count]\n",
    "colors = ['#e74c3c', '#2ecc71']\n",
    "\n",
    "# Only plot if we have data\n",
    "if sum(values) > 0:\n",
    "    wedges, texts, autotexts = ax2.pie(\n",
    "        values, \n",
    "        labels=labels, \n",
    "        autopct='%1.1f%%',\n",
    "        colors=colors, \n",
    "        startangle=90,\n",
    "        textprops={'fontsize': 11, 'fontweight': 'bold'},\n",
    "        explode=(0.05, 0.05)  # Slightly separate slices\n",
    "    )\n",
    "    ax2.set_title('Overall Performance: Correct vs Incorrect', fontsize=14, fontweight='bold', pad=20)\n",
    "    \n",
    "    # Make percentage text more visible\n",
    "    for autotext in autotexts:\n",
    "        autotext.set_color('white')\n",
    "        autotext.set_fontsize(12)\n",
    "        autotext.set_fontweight('bold')\n",
    "else:\n",
    "    ax2.text(0.5, 0.5, 'No data available', ha='center', va='center', fontsize=14)\n",
    "    ax2.set_title('Overall Performance', fontsize=14, fontweight='bold', pad=20)\n",
    "\n",
    "plt.tight_layout()\n",
    "plt.show()\n",
    "\n",
    "# Print summary statistics\n",
    "print(f\"\\n{'='*60}\")\n",
    "print(f\"📊 SUMMARY STATISTICS\")\n",
    "print(f\"{'='*60}\")\n",
    "print(f\"Total Tests Run: {len(df)}\")\n",
    "print(f\"Correct Answers: {correct_count} ({correct_count/len(df)*100:.1f}%)\")\n",
    "print(f\"Incorrect Answers: {incorrect_count} ({incorrect_count/len(df)*100:.1f}%)\")\n",
    "print(f\"\\nAccuracy by Category:\")\n",
    "for category, acc in category_accuracy.items():\n",
    "    print(f\"  • {category}: {acc:.1f}%\")\n",
    "print(f\"{'='*60}\")\n",
    "\n",
    "plt.tight_layout()\n",
    "plt.show()"
   ]
  },
  {
   "cell_type": "markdown",
   "id": "b5c8ffe5",
   "metadata": {},
   "source": [
    "---\n",
    "# 🎓 Key Takeaways\n",
    "\n",
    "## What We Proved:\n",
    "1. **State-of-the-art Transformers fail at basic arithmetic** that elementary students can solve\n",
    "2. **Numerical errors in summarization** can have catastrophic real-world consequences\n",
    "3. **Inconsistent outputs** for rephrased identical problems prove lack of true understanding\n",
    "4. **Models appear confident** even when completely wrong - there's no uncertainty signal\n",
    "\n",
    "## Why This Happens:\n",
    "- **Transformers learn statistical patterns**, not mathematical operations\n",
    "- **No explicit reasoning module** for numerical computation\n",
    "- **Token-based processing** treats numbers as text symbols, not quantities\n",
    "- **Training data bias** - most text doesn't require precise calculation\n",
    "\n",
    "## Real-World Implications:\n",
    "- ❌ **Cannot be trusted** for financial reporting automation\n",
    "- ❌ **Dangerous** for medical record summarization\n",
    "- ❌ **Unreliable** for scientific data analysis\n",
    "- ❌ **Risky** for legal document review involving quantities\n",
    "- ❌ **Unsuitable** for any application requiring numerical accuracy\n",
    "\n",
    "## What's Needed:\n",
    "1. **Hybrid architectures** combining symbolic reasoning with neural networks\n",
    "2. **Tool-augmented models** that call calculators for math operations\n",
    "3. **Explicit verification layers** to check numerical consistency\n",
    "4. **Better training** on mathematical reasoning datasets\n",
    "5. **Uncertainty quantification** so models can say \"I don't know\"\n",
    "\n",
    "---\n",
    "\n",
    "## 🚨 Final Warning\n",
    "\n",
    "> *\"The greatest danger of AI is not that it will become superintelligent, but that we will mistake pattern matching for understanding and deploy it in contexts where failure is catastrophic.\"*\n",
    "\n",
    "**Transformers are powerful tools - but they are NOT ready for autonomous decision-making in domains requiring numerical precision.**"
   ]
  },
  {
   "cell_type": "markdown",
   "id": "1a400a78",
   "metadata": {},
   "source": [
    "---\n",
    "# 🔬 Interactive Testing Area\n",
    "\n",
    "Use this cell to test your own examples during the live demo!"
   ]
  },
  {
   "cell_type": "code",
   "execution_count": 60,
   "id": "42101afc",
   "metadata": {},
   "outputs": [
    {
     "data": {
      "text/html": [
       "\n",
       "    <div style='background-color: #f0f0f0; padding: 20px; border-radius: 10px; margin: 10px 0; border: 2px solid #95a5a6;'>\n",
       "        <h3 style='color: #2c3e50;'>🧪 Test Case: Custom Test</h3>\n",
       "        <div style='background-color: white; color: #2c3e50; padding: 15px; margin: 10px 0; border-left: 4px solid #3498db;'>\n",
       "            <strong style='font-size: 16px;'>📝 Input:</strong><br>\n",
       "            <span style='font-size: 18px; color: #2c3e50;'>question: YOUR QUESTION HERE answer:</span>\n",
       "        </div>\n",
       "        <div style='background-color: #d4edda; color: #155724; padding: 15px; margin: 10px 0; border-left: 4px solid #28a745;'>\n",
       "            <strong style='font-size: 16px;'>✓ Correct Answer:</strong><br>\n",
       "            <span style='font-size: 22px; font-weight: bold; color: #155724;'>CORRECT ANSWER</span>\n",
       "        </div>\n",
       "    \n",
       "        <div style='background-color: #f8d7da; color: #721c24; padding: 15px; margin: 10px 0; border-left: 4px solid #dc3545; border: 2px solid #dc3545;'>\n",
       "            <strong style='font-size: 16px;'>❌ FLAN-T5-Large:</strong> <span style=\"font-size: 20px; color: #dc3545; font-weight: bold;\">WRONG!</span><br>\n",
       "            <span style='font-size: 20px; font-weight: bold; color: #721c24;'>Which of the following is not a type of animal?</span>\n",
       "        </div>\n",
       "            </div>"
      ],
      "text/plain": [
       "<IPython.core.display.HTML object>"
      ]
     },
     "metadata": {},
     "output_type": "display_data"
    }
   ],
   "source": [
    "# Try your own test case!\n",
    "custom_prompt = \"question: YOUR QUESTION HERE answer:\"\n",
    "custom_correct = \"CORRECT ANSWER\"\n",
    "\n",
    "custom_result = generate_t5_response(custom_prompt, max_length=50)\n",
    "\n",
    "display_comparison(\n",
    "    \"Custom Test\",\n",
    "    custom_prompt,\n",
    "    custom_correct,\n",
    "    custom_result\n",
    ")"
   ]
  }
 ],
 "metadata": {
  "kernelspec": {
   "display_name": ".venv",
   "language": "python",
   "name": "python3"
  },
  "language_info": {
   "codemirror_mode": {
    "name": "ipython",
    "version": 3
   },
   "file_extension": ".py",
   "mimetype": "text/x-python",
   "name": "python",
   "nbconvert_exporter": "python",
   "pygments_lexer": "ipython3",
   "version": "3.10.11"
  }
 },
 "nbformat": 4,
 "nbformat_minor": 5
}
